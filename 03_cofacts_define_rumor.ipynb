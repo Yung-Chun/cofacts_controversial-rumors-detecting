{
 "cells": [
  {
   "cell_type": "code",
   "execution_count": 1,
   "id": "ffb0d02f",
   "metadata": {},
   "outputs": [],
   "source": [
    "import pandas as pd\n",
    "import csv\n",
    "from pathlib import Path\n",
    "import json\n",
    "import numpy as np\n",
    "from datetime import datetime\n",
    "import time\n",
    "import os"
   ]
  },
  {
   "cell_type": "code",
   "execution_count": 2,
   "id": "f1cf84ca",
   "metadata": {},
   "outputs": [],
   "source": [
    "root_path = ###deleted for security reasons###\n",
    "out_path = ###deleted for security reasons###"
   ]
  },
  {
   "cell_type": "code",
   "execution_count": 3,
   "id": "7b82d779",
   "metadata": {},
   "outputs": [],
   "source": [
    "# ['id', 'text', 'createdAt', 'stats', 'articleReplies', 'url', 'segment']\n",
    "cofacts_reply = []\n",
    "article_id_set = set()\n",
    "with open(root_path/'cofacts_20220319-20220513.json' , 'r', encoding='big5') as reader:\n",
    "    data = json.loads(reader.read())\n",
    "    for idx, article in enumerate(data):\n",
    "        article_id_set.add(article['id'])\n",
    "        \n",
    "        if not article['articleReplies'] == []:\n",
    "            for reply in article['articleReplies']:\n",
    "\n",
    "                cofacts_reply.append([\n",
    "                    article['id'],\n",
    "                    reply['reply']['id'],\n",
    "                    reply['reply']['type'],\n",
    "                    reply['positiveFeedbackCount'],\n",
    "                    reply['negativeFeedbackCount']\n",
    "                ])\n",
    "        \n",
    "cofacts_reply_df = pd.DataFrame(cofacts_reply, \n",
    "                                columns=['article_id', 'reply_id', 'reply_type',\n",
    "                                         'positiveFeedbackCount', 'negativeFeedbackCount'])"
   ]
  },
  {
   "cell_type": "code",
   "execution_count": 4,
   "id": "01274604",
   "metadata": {},
   "outputs": [
    {
     "data": {
      "text/plain": [
       "23079"
      ]
     },
     "execution_count": 4,
     "metadata": {},
     "output_type": "execute_result"
    }
   ],
   "source": [
    "#all reports\n",
    "len(article_id_set)"
   ]
  },
  {
   "cell_type": "code",
   "execution_count": 5,
   "id": "d9c86ca5",
   "metadata": {},
   "outputs": [
    {
     "name": "stdout",
     "output_type": "stream",
     "text": [
      "12326\n"
     ]
    }
   ],
   "source": [
    "#fact-check reports\n",
    "replied_article_id_set = set(cofacts_reply_df['article_id'])\n",
    "print(len(replied_article_id_set))"
   ]
  },
  {
   "cell_type": "code",
   "execution_count": 6,
   "id": "d2c24a82",
   "metadata": {},
   "outputs": [
    {
     "data": {
      "text/plain": [
       "10753"
      ]
     },
     "execution_count": 6,
     "metadata": {},
     "output_type": "execute_result"
    }
   ],
   "source": [
    "#non-fact-check reports\n",
    "len(article_id_set) - len(replied_article_id_set)"
   ]
  },
  {
   "cell_type": "code",
   "execution_count": 7,
   "id": "8e5beca6",
   "metadata": {},
   "outputs": [
    {
     "data": {
      "text/plain": [
       "0.5340785995927033"
      ]
     },
     "execution_count": 7,
     "metadata": {},
     "output_type": "execute_result"
    }
   ],
   "source": [
    "#fact-check proportion\n",
    "len(replied_article_id_set)/len(article_id_set)"
   ]
  },
  {
   "cell_type": "code",
   "execution_count": 8,
   "id": "c2fd2443",
   "metadata": {},
   "outputs": [],
   "source": [
    "#num of fact-check replies per report\n",
    "reply_count = cofacts_reply_df[['article_id', 'reply_id']]\\\n",
    ".groupby(by='article_id', as_index=False).count()\\\n",
    ".sort_values(by='reply_id', ascending=False)\\\n",
    ".rename(columns={'reply_id':'reply_id_size'})"
   ]
  },
  {
   "cell_type": "code",
   "execution_count": 9,
   "id": "bbd958ae",
   "metadata": {},
   "outputs": [],
   "source": [
    "cofacts_reply_df = cofacts_reply_df.merge(reply_count, how='right')"
   ]
  },
  {
   "cell_type": "code",
   "execution_count": 10,
   "id": "93fa1d2e",
   "metadata": {},
   "outputs": [
    {
     "data": {
      "text/plain": [
       "{'NOT_ARTICLE', 'NOT_RUMOR', 'OPINIONATED', 'RUMOR'}"
      ]
     },
     "execution_count": 10,
     "metadata": {},
     "output_type": "execute_result"
    }
   ],
   "source": [
    "set(cofacts_reply_df.reply_type)"
   ]
  },
  {
   "cell_type": "markdown",
   "id": "434267ea",
   "metadata": {},
   "source": [
    "# encoding"
   ]
  },
  {
   "cell_type": "code",
   "execution_count": 11,
   "id": "a23d6bf1",
   "metadata": {},
   "outputs": [],
   "source": [
    "def reply_type_score(reply_type):\n",
    "    if reply_type == 'RUMOR':\n",
    "        return -1\n",
    "    if reply_type == 'OPINIONATED':\n",
    "        return -1\n",
    "    if reply_type == 'NOT_RUMOR':\n",
    "        return 1\n",
    "    if reply_type == 'NOT_ARTICLE':\n",
    "        return 0\n",
    "    else:\n",
    "        return 0"
   ]
  },
  {
   "cell_type": "code",
   "execution_count": 12,
   "id": "b0b757a6",
   "metadata": {},
   "outputs": [
    {
     "data": {
      "text/plain": [
       "0"
      ]
     },
     "execution_count": 12,
     "metadata": {},
     "output_type": "execute_result"
    }
   ],
   "source": [
    "reply_type_score('NOT_ARTICLE')"
   ]
  },
  {
   "cell_type": "code",
   "execution_count": 13,
   "id": "29eadb93",
   "metadata": {
    "scrolled": true
   },
   "outputs": [],
   "source": [
    "for rows in cofacts_reply_df.itertuples():\n",
    "    cofacts_reply_df.loc[rows.Index, 'type_score'] = reply_type_score(cofacts_reply_df.loc[rows.Index, 'reply_type'])"
   ]
  },
  {
   "cell_type": "code",
   "execution_count": 14,
   "id": "dddd0e20",
   "metadata": {},
   "outputs": [
    {
     "data": {
      "text/plain": [
       "Index(['article_id', 'reply_id', 'reply_type', 'positiveFeedbackCount',\n",
       "       'negativeFeedbackCount', 'reply_id_size', 'type_score'],\n",
       "      dtype='object')"
      ]
     },
     "execution_count": 14,
     "metadata": {},
     "output_type": "execute_result"
    }
   ],
   "source": [
    "cofacts_reply_df.columns"
   ]
  },
  {
   "cell_type": "code",
   "execution_count": 15,
   "id": "dd9b2608",
   "metadata": {},
   "outputs": [],
   "source": [
    "cofacts_reply_df = cofacts_reply_df.reindex(columns=['article_id', 'reply_id', \n",
    "                                                     'reply_id_size', 'type_score', 'reply_type', \n",
    "                                                     'positiveFeedbackCount', 'negativeFeedbackCount'])"
   ]
  },
  {
   "cell_type": "code",
   "execution_count": 16,
   "id": "0e009712",
   "metadata": {},
   "outputs": [
    {
     "data": {
      "text/html": [
       "<div>\n",
       "<style scoped>\n",
       "    .dataframe tbody tr th:only-of-type {\n",
       "        vertical-align: middle;\n",
       "    }\n",
       "\n",
       "    .dataframe tbody tr th {\n",
       "        vertical-align: top;\n",
       "    }\n",
       "\n",
       "    .dataframe thead th {\n",
       "        text-align: right;\n",
       "    }\n",
       "</style>\n",
       "<table border=\"1\" class=\"dataframe\">\n",
       "  <thead>\n",
       "    <tr style=\"text-align: right;\">\n",
       "      <th></th>\n",
       "      <th>article_id</th>\n",
       "      <th>reply_id</th>\n",
       "      <th>reply_id_size</th>\n",
       "      <th>type_score</th>\n",
       "      <th>reply_type</th>\n",
       "      <th>positiveFeedbackCount</th>\n",
       "      <th>negativeFeedbackCount</th>\n",
       "    </tr>\n",
       "  </thead>\n",
       "  <tbody>\n",
       "    <tr>\n",
       "      <th>0</th>\n",
       "      <td>2o1zve8awcgvn</td>\n",
       "      <td>aiZOMoABvUvLpBdgBzEO</td>\n",
       "      <td>12</td>\n",
       "      <td>1.0</td>\n",
       "      <td>NOT_RUMOR</td>\n",
       "      <td>0</td>\n",
       "      <td>1</td>\n",
       "    </tr>\n",
       "    <tr>\n",
       "      <th>1</th>\n",
       "      <td>2o1zve8awcgvn</td>\n",
       "      <td>wyXqon8BvUvLpBdgAat7</td>\n",
       "      <td>12</td>\n",
       "      <td>-1.0</td>\n",
       "      <td>RUMOR</td>\n",
       "      <td>4</td>\n",
       "      <td>1</td>\n",
       "    </tr>\n",
       "    <tr>\n",
       "      <th>2</th>\n",
       "      <td>2o1zve8awcgvn</td>\n",
       "      <td>5SZ3J4ABvUvLpBdgXSUn</td>\n",
       "      <td>12</td>\n",
       "      <td>1.0</td>\n",
       "      <td>NOT_RUMOR</td>\n",
       "      <td>0</td>\n",
       "      <td>1</td>\n",
       "    </tr>\n",
       "    <tr>\n",
       "      <th>3</th>\n",
       "      <td>2o1zve8awcgvn</td>\n",
       "      <td>rSaQJoABvUvLpBdgfyTR</td>\n",
       "      <td>12</td>\n",
       "      <td>1.0</td>\n",
       "      <td>NOT_RUMOR</td>\n",
       "      <td>0</td>\n",
       "      <td>1</td>\n",
       "    </tr>\n",
       "    <tr>\n",
       "      <th>4</th>\n",
       "      <td>2o1zve8awcgvn</td>\n",
       "      <td>zCVEnX8BvUvLpBdgBKZH</td>\n",
       "      <td>12</td>\n",
       "      <td>1.0</td>\n",
       "      <td>NOT_RUMOR</td>\n",
       "      <td>2</td>\n",
       "      <td>3</td>\n",
       "    </tr>\n",
       "    <tr>\n",
       "      <th>...</th>\n",
       "      <td>...</td>\n",
       "      <td>...</td>\n",
       "      <td>...</td>\n",
       "      <td>...</td>\n",
       "      <td>...</td>\n",
       "      <td>...</td>\n",
       "      <td>...</td>\n",
       "    </tr>\n",
       "    <tr>\n",
       "      <th>14266</th>\n",
       "      <td>2cxbm4zpv2kr2</td>\n",
       "      <td>pSYQqYABvUvLpBdgirzW</td>\n",
       "      <td>1</td>\n",
       "      <td>-1.0</td>\n",
       "      <td>RUMOR</td>\n",
       "      <td>2</td>\n",
       "      <td>0</td>\n",
       "    </tr>\n",
       "    <tr>\n",
       "      <th>14267</th>\n",
       "      <td>2cxq2samivaqi</td>\n",
       "      <td>w6Sd_30BnX5-aOa4eJoi</td>\n",
       "      <td>1</td>\n",
       "      <td>1.0</td>\n",
       "      <td>NOT_RUMOR</td>\n",
       "      <td>5</td>\n",
       "      <td>1</td>\n",
       "    </tr>\n",
       "    <tr>\n",
       "      <th>14268</th>\n",
       "      <td>2cy7jwh1ad7a7</td>\n",
       "      <td>RqN5Y3UB9w1KR1IkMWt9</td>\n",
       "      <td>1</td>\n",
       "      <td>0.0</td>\n",
       "      <td>NOT_ARTICLE</td>\n",
       "      <td>1</td>\n",
       "      <td>0</td>\n",
       "    </tr>\n",
       "    <tr>\n",
       "      <th>14269</th>\n",
       "      <td>2cy8agsbhdn7w</td>\n",
       "      <td>YgPy3nABrhVJn3LNfVih</td>\n",
       "      <td>1</td>\n",
       "      <td>-1.0</td>\n",
       "      <td>RUMOR</td>\n",
       "      <td>1</td>\n",
       "      <td>0</td>\n",
       "    </tr>\n",
       "    <tr>\n",
       "      <th>14270</th>\n",
       "      <td>zzxtkikjhlvi</td>\n",
       "      <td>9yZcVIABvUvLpBdgpVXu</td>\n",
       "      <td>1</td>\n",
       "      <td>-1.0</td>\n",
       "      <td>RUMOR</td>\n",
       "      <td>3</td>\n",
       "      <td>0</td>\n",
       "    </tr>\n",
       "  </tbody>\n",
       "</table>\n",
       "<p>14271 rows × 7 columns</p>\n",
       "</div>"
      ],
      "text/plain": [
       "          article_id              reply_id  reply_id_size  type_score  \\\n",
       "0      2o1zve8awcgvn  aiZOMoABvUvLpBdgBzEO             12         1.0   \n",
       "1      2o1zve8awcgvn  wyXqon8BvUvLpBdgAat7             12        -1.0   \n",
       "2      2o1zve8awcgvn  5SZ3J4ABvUvLpBdgXSUn             12         1.0   \n",
       "3      2o1zve8awcgvn  rSaQJoABvUvLpBdgfyTR             12         1.0   \n",
       "4      2o1zve8awcgvn  zCVEnX8BvUvLpBdgBKZH             12         1.0   \n",
       "...              ...                   ...            ...         ...   \n",
       "14266  2cxbm4zpv2kr2  pSYQqYABvUvLpBdgirzW              1        -1.0   \n",
       "14267  2cxq2samivaqi  w6Sd_30BnX5-aOa4eJoi              1         1.0   \n",
       "14268  2cy7jwh1ad7a7  RqN5Y3UB9w1KR1IkMWt9              1         0.0   \n",
       "14269  2cy8agsbhdn7w  YgPy3nABrhVJn3LNfVih              1        -1.0   \n",
       "14270   zzxtkikjhlvi  9yZcVIABvUvLpBdgpVXu              1        -1.0   \n",
       "\n",
       "        reply_type  positiveFeedbackCount  negativeFeedbackCount  \n",
       "0        NOT_RUMOR                      0                      1  \n",
       "1            RUMOR                      4                      1  \n",
       "2        NOT_RUMOR                      0                      1  \n",
       "3        NOT_RUMOR                      0                      1  \n",
       "4        NOT_RUMOR                      2                      3  \n",
       "...            ...                    ...                    ...  \n",
       "14266        RUMOR                      2                      0  \n",
       "14267    NOT_RUMOR                      5                      1  \n",
       "14268  NOT_ARTICLE                      1                      0  \n",
       "14269        RUMOR                      1                      0  \n",
       "14270        RUMOR                      3                      0  \n",
       "\n",
       "[14271 rows x 7 columns]"
      ]
     },
     "execution_count": 16,
     "metadata": {},
     "output_type": "execute_result"
    }
   ],
   "source": [
    "cofacts_reply_df"
   ]
  },
  {
   "cell_type": "markdown",
   "id": "ba0227cf",
   "metadata": {},
   "source": [
    "# article_truth_score\n",
    "## count"
   ]
  },
  {
   "cell_type": "code",
   "execution_count": 17,
   "id": "b08f8a7f",
   "metadata": {},
   "outputs": [],
   "source": [
    "def count_truth_score(type_score, positiveFeedbackCount, negativeFeedbackCount):\n",
    "    return type_score*positiveFeedbackCount - type_score*negativeFeedbackCount"
   ]
  },
  {
   "cell_type": "code",
   "execution_count": 18,
   "id": "327a035a",
   "metadata": {},
   "outputs": [
    {
     "name": "stdout",
     "output_type": "stream",
     "text": [
      "This time is being calculated\n",
      "4.7999999999603915e-05\n"
     ]
    }
   ],
   "source": [
    "start = time.process_time()\n",
    "end = time.process_time()\n",
    "\n",
    "cofacts_reply_df['reply_truth_score'] = cofacts_reply_df.apply(lambda r:count_truth_score(r['type_score'],\n",
    "                                                               r['positiveFeedbackCount'],\n",
    "                                                               r['negativeFeedbackCount']), axis=1)\n",
    "\n",
    "print(\"This time is being calculated\")\n",
    "print(end - start)  "
   ]
  },
  {
   "cell_type": "code",
   "execution_count": 19,
   "id": "a0a03442",
   "metadata": {},
   "outputs": [],
   "source": [
    "reply_article_truth_score = cofacts_reply_df[['article_id', 'reply_truth_score']]\\\n",
    "                            .groupby(by='article_id', as_index=False).sum()\\\n",
    "                            .rename(columns={'reply_truth_score':'article_truth_score_count'})"
   ]
  },
  {
   "cell_type": "code",
   "execution_count": 20,
   "id": "5dcd1e3d",
   "metadata": {},
   "outputs": [],
   "source": [
    "reply_type_count=[]\n",
    "\n",
    "for idx in replied_article_id_set:\n",
    "    reply_type_set = set(cofacts_reply_df[cofacts_reply_df.article_id==idx]['reply_type'])\n",
    "    reply_type_count.append((idx, len(reply_type_set), str(reply_type_set)))\n",
    "    \n",
    "article_reply_type_set = pd.DataFrame(reply_type_count, \n",
    "                                      columns=['article_id', 'reply_type_count', 'reply_type_set'])"
   ]
  },
  {
   "cell_type": "code",
   "execution_count": 21,
   "id": "343da921",
   "metadata": {},
   "outputs": [],
   "source": [
    "reply_size = cofacts_reply_df[['article_id', 'reply_id']].groupby(by='article_id', as_index=False).size()"
   ]
  },
  {
   "cell_type": "code",
   "execution_count": 22,
   "id": "2d85bbed",
   "metadata": {},
   "outputs": [],
   "source": [
    "article_truth_score = article_reply_type_set.merge(reply_size).merge(reply_article_truth_score)"
   ]
  },
  {
   "cell_type": "code",
   "execution_count": 23,
   "id": "9de9f8fd",
   "metadata": {},
   "outputs": [],
   "source": [
    "def article_type_decision(article_truth_score_count):\n",
    "    if article_truth_score_count > 0:\n",
    "        return 'not rumor' \n",
    "    elif article_truth_score_count == 0:\n",
    "        return 'cannot be fact-checked' \n",
    "    elif article_truth_score_count < 0:\n",
    "        return 'rumor or opinion'"
   ]
  },
  {
   "cell_type": "code",
   "execution_count": 24,
   "id": "5128ecc0",
   "metadata": {},
   "outputs": [],
   "source": [
    "article_truth_score['article_type_count'] = article_truth_score.apply(lambda r:\n",
    "                                            article_type_decision(r['article_truth_score_count']), \n",
    "                                            axis=1)"
   ]
  },
  {
   "cell_type": "code",
   "execution_count": 25,
   "id": "675a51cd",
   "metadata": {},
   "outputs": [
    {
     "data": {
      "text/html": [
       "<div>\n",
       "<style scoped>\n",
       "    .dataframe tbody tr th:only-of-type {\n",
       "        vertical-align: middle;\n",
       "    }\n",
       "\n",
       "    .dataframe tbody tr th {\n",
       "        vertical-align: top;\n",
       "    }\n",
       "\n",
       "    .dataframe thead th {\n",
       "        text-align: right;\n",
       "    }\n",
       "</style>\n",
       "<table border=\"1\" class=\"dataframe\">\n",
       "  <thead>\n",
       "    <tr style=\"text-align: right;\">\n",
       "      <th></th>\n",
       "      <th>article_id</th>\n",
       "      <th>reply_type_count</th>\n",
       "      <th>reply_type_set</th>\n",
       "      <th>size</th>\n",
       "      <th>article_truth_score_count</th>\n",
       "      <th>article_type_count</th>\n",
       "    </tr>\n",
       "  </thead>\n",
       "  <tbody>\n",
       "    <tr>\n",
       "      <th>9918</th>\n",
       "      <td>3uzlh41rh4oqm</td>\n",
       "      <td>1</td>\n",
       "      <td>{'RUMOR'}</td>\n",
       "      <td>2</td>\n",
       "      <td>-1006.0</td>\n",
       "      <td>rumor or opinion</td>\n",
       "    </tr>\n",
       "    <tr>\n",
       "      <th>4999</th>\n",
       "      <td>1qhjmled1mv2w</td>\n",
       "      <td>1</td>\n",
       "      <td>{'RUMOR'}</td>\n",
       "      <td>2</td>\n",
       "      <td>-502.0</td>\n",
       "      <td>rumor or opinion</td>\n",
       "    </tr>\n",
       "    <tr>\n",
       "      <th>11556</th>\n",
       "      <td>oikfzsvt011y</td>\n",
       "      <td>2</td>\n",
       "      <td>{'RUMOR', 'NOT_ARTICLE'}</td>\n",
       "      <td>4</td>\n",
       "      <td>-310.0</td>\n",
       "      <td>rumor or opinion</td>\n",
       "    </tr>\n",
       "    <tr>\n",
       "      <th>2401</th>\n",
       "      <td>119qngktbf3wm</td>\n",
       "      <td>1</td>\n",
       "      <td>{'RUMOR'}</td>\n",
       "      <td>3</td>\n",
       "      <td>-277.0</td>\n",
       "      <td>rumor or opinion</td>\n",
       "    </tr>\n",
       "    <tr>\n",
       "      <th>11405</th>\n",
       "      <td>wn5wrmpxylxn</td>\n",
       "      <td>1</td>\n",
       "      <td>{'RUMOR'}</td>\n",
       "      <td>1</td>\n",
       "      <td>-276.0</td>\n",
       "      <td>rumor or opinion</td>\n",
       "    </tr>\n",
       "    <tr>\n",
       "      <th>...</th>\n",
       "      <td>...</td>\n",
       "      <td>...</td>\n",
       "      <td>...</td>\n",
       "      <td>...</td>\n",
       "      <td>...</td>\n",
       "      <td>...</td>\n",
       "    </tr>\n",
       "    <tr>\n",
       "      <th>10848</th>\n",
       "      <td>3p3sunew3un5j</td>\n",
       "      <td>1</td>\n",
       "      <td>{'NOT_RUMOR'}</td>\n",
       "      <td>1</td>\n",
       "      <td>78.0</td>\n",
       "      <td>not rumor</td>\n",
       "    </tr>\n",
       "    <tr>\n",
       "      <th>6536</th>\n",
       "      <td>2lnupn6kprnz5</td>\n",
       "      <td>1</td>\n",
       "      <td>{'NOT_RUMOR'}</td>\n",
       "      <td>1</td>\n",
       "      <td>79.0</td>\n",
       "      <td>not rumor</td>\n",
       "    </tr>\n",
       "    <tr>\n",
       "      <th>2195</th>\n",
       "      <td>3ppeiqj59yffi</td>\n",
       "      <td>1</td>\n",
       "      <td>{'NOT_RUMOR'}</td>\n",
       "      <td>1</td>\n",
       "      <td>111.0</td>\n",
       "      <td>not rumor</td>\n",
       "    </tr>\n",
       "    <tr>\n",
       "      <th>7988</th>\n",
       "      <td>1frt07jdgygwy</td>\n",
       "      <td>1</td>\n",
       "      <td>{'NOT_RUMOR'}</td>\n",
       "      <td>1</td>\n",
       "      <td>112.0</td>\n",
       "      <td>not rumor</td>\n",
       "    </tr>\n",
       "    <tr>\n",
       "      <th>3776</th>\n",
       "      <td>3a352y2wv2rvb</td>\n",
       "      <td>1</td>\n",
       "      <td>{'NOT_RUMOR'}</td>\n",
       "      <td>1</td>\n",
       "      <td>168.0</td>\n",
       "      <td>not rumor</td>\n",
       "    </tr>\n",
       "  </tbody>\n",
       "</table>\n",
       "<p>12326 rows × 6 columns</p>\n",
       "</div>"
      ],
      "text/plain": [
       "          article_id  reply_type_count            reply_type_set  size  \\\n",
       "9918   3uzlh41rh4oqm                 1                 {'RUMOR'}     2   \n",
       "4999   1qhjmled1mv2w                 1                 {'RUMOR'}     2   \n",
       "11556   oikfzsvt011y                 2  {'RUMOR', 'NOT_ARTICLE'}     4   \n",
       "2401   119qngktbf3wm                 1                 {'RUMOR'}     3   \n",
       "11405   wn5wrmpxylxn                 1                 {'RUMOR'}     1   \n",
       "...              ...               ...                       ...   ...   \n",
       "10848  3p3sunew3un5j                 1             {'NOT_RUMOR'}     1   \n",
       "6536   2lnupn6kprnz5                 1             {'NOT_RUMOR'}     1   \n",
       "2195   3ppeiqj59yffi                 1             {'NOT_RUMOR'}     1   \n",
       "7988   1frt07jdgygwy                 1             {'NOT_RUMOR'}     1   \n",
       "3776   3a352y2wv2rvb                 1             {'NOT_RUMOR'}     1   \n",
       "\n",
       "       article_truth_score_count article_type_count  \n",
       "9918                     -1006.0   rumor or opinion  \n",
       "4999                      -502.0   rumor or opinion  \n",
       "11556                     -310.0   rumor or opinion  \n",
       "2401                      -277.0   rumor or opinion  \n",
       "11405                     -276.0   rumor or opinion  \n",
       "...                          ...                ...  \n",
       "10848                       78.0          not rumor  \n",
       "6536                        79.0          not rumor  \n",
       "2195                       111.0          not rumor  \n",
       "7988                       112.0          not rumor  \n",
       "3776                       168.0          not rumor  \n",
       "\n",
       "[12326 rows x 6 columns]"
      ]
     },
     "execution_count": 25,
     "metadata": {},
     "output_type": "execute_result"
    }
   ],
   "source": [
    "article_truth_score.sort_values(by=['article_truth_score_count', 'reply_type_count'], ascending=True)"
   ]
  },
  {
   "cell_type": "code",
   "execution_count": 41,
   "id": "2f460b07",
   "metadata": {},
   "outputs": [],
   "source": [
    "article_truth_score.to_csv(out_path/'cofacts_truth_score_20220319-20220513.csv', index=False)"
   ]
  },
  {
   "cell_type": "code",
   "execution_count": null,
   "id": "4b9feb93",
   "metadata": {},
   "outputs": [],
   "source": []
  }
 ],
 "metadata": {
  "kernelspec": {
   "display_name": "Python 3 (ipykernel)",
   "language": "python",
   "name": "python3"
  },
  "language_info": {
   "codemirror_mode": {
    "name": "ipython",
    "version": 3
   },
   "file_extension": ".py",
   "mimetype": "text/x-python",
   "name": "python",
   "nbconvert_exporter": "python",
   "pygments_lexer": "ipython3",
   "version": "3.9.12"
  }
 },
 "nbformat": 4,
 "nbformat_minor": 5
}
