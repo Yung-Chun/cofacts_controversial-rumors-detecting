{
 "cells": [
  {
   "cell_type": "code",
   "execution_count": 1,
   "id": "baac4f04",
   "metadata": {},
   "outputs": [],
   "source": [
    "import pandas as pd\n",
    "import csv\n",
    "from pathlib import Path\n",
    "import json\n",
    "from sklearn.metrics.pairwise import cosine_similarity\n",
    "from itertools import combinations\n",
    "from itertools import permutations\n",
    "from igraph import *\n",
    "import matplotlib.pyplot as plt\n",
    "import numpy as np\n",
    "from datetime import datetime\n",
    "import time\n",
    "import statistics\n",
    "from scipy import stats\n",
    "import seaborn as sns"
   ]
  },
  {
   "cell_type": "code",
   "execution_count": 2,
   "id": "e945a9bd",
   "metadata": {},
   "outputs": [],
   "source": [
    "root_path = ###deleted for security reasons###\n",
    "out_path = ###deleted for security reasons###"
   ]
  },
  {
   "cell_type": "markdown",
   "id": "cf1fa8b3",
   "metadata": {},
   "source": [
    "# import data"
   ]
  },
  {
   "cell_type": "code",
   "execution_count": 3,
   "id": "db14daf8",
   "metadata": {},
   "outputs": [],
   "source": [
    "cofacts_daily_views = []\n",
    "tformat = \"%Y-%m-%d\"\n",
    "with open(root_path/'cofacts_20220319-20220513.json' , 'r', encoding='big5') as reader:\n",
    "    data = json.loads(reader.read())\n",
    "    for idx, article in enumerate(data):\n",
    "        for d in article['stats']:\n",
    "            ori_time = datetime.strptime(d['date'].split('T')[0], tformat)\n",
    "            if ori_time >= datetime.strptime('2022-03-19', tformat) and ori_time <= datetime.strptime('2022-05-13', tformat):\n",
    "                view_list = [v for v in d.values()]\n",
    "                cofacts_daily_views.append([article['id'], d['date'].split('T')[0], sum([0 if value==None else value for value in view_list[:-1]])])"
   ]
  },
  {
   "cell_type": "code",
   "execution_count": 4,
   "id": "d06977bb",
   "metadata": {},
   "outputs": [],
   "source": [
    "cofacts_daily_views_df = pd.DataFrame(cofacts_daily_views, columns=['article_id', 'date', 'views'])"
   ]
  },
  {
   "cell_type": "code",
   "execution_count": 5,
   "id": "4c50216e",
   "metadata": {},
   "outputs": [],
   "source": [
    "cofacts_daily_views_pivot = cofacts_daily_views_df.pivot(index='article_id', columns='date', values='views')\\\n",
    "                            .reset_index().fillna(0)"
   ]
  },
  {
   "cell_type": "markdown",
   "id": "58db8578",
   "metadata": {},
   "source": [
    "# background - COVID"
   ]
  },
  {
   "cell_type": "code",
   "execution_count": 6,
   "id": "6d41750a",
   "metadata": {},
   "outputs": [],
   "source": [
    "cofacts_covid = pd.read_csv(out_path/'cofacts_covid_20220319-20220513_clustering.csv')"
   ]
  },
  {
   "cell_type": "code",
   "execution_count": 7,
   "id": "6261a79f",
   "metadata": {},
   "outputs": [],
   "source": [
    "cofacts_covid_report = cofacts_covid[['label', 'article_id', 'article_type_count']].merge(cofacts_daily_views_pivot, how='left')"
   ]
  },
  {
   "cell_type": "markdown",
   "id": "b41ae758",
   "metadata": {},
   "source": [
    "### sum all"
   ]
  },
  {
   "cell_type": "code",
   "execution_count": 8,
   "id": "124b7add",
   "metadata": {
    "scrolled": true
   },
   "outputs": [],
   "source": [
    "cofacts_covid_report_bg_array = cofacts_covid_report.drop(columns=['label', 'article_id', 'article_type_count'])\\\n",
    "                                .sum().to_list()"
   ]
  },
  {
   "cell_type": "markdown",
   "id": "2f822a9c",
   "metadata": {},
   "source": [
    "### group by label"
   ]
  },
  {
   "cell_type": "code",
   "execution_count": 9,
   "id": "9d65314f",
   "metadata": {},
   "outputs": [],
   "source": [
    "cofacts_covid_report_label = cofacts_covid_report.groupby(by='label', as_index=False).sum()"
   ]
  },
  {
   "cell_type": "markdown",
   "id": "6ed955ec",
   "metadata": {},
   "source": [
    "# subset"
   ]
  },
  {
   "cell_type": "code",
   "execution_count": 10,
   "id": "52f84e33",
   "metadata": {},
   "outputs": [],
   "source": [
    "cofacts_coexist = pd.read_csv(out_path/'cofacts_coexist_20220319-20220513_clustering.csv')\n",
    "cofacts_vaccine = pd.read_csv(out_path/'cofacts_vaccine_20220319-20220513_clustering.csv')\n",
    "cofacts_rapid_test = pd.read_csv(out_path/'cofacts_rapid_test_20220319-20220513_clustering.csv')"
   ]
  },
  {
   "cell_type": "code",
   "execution_count": 11,
   "id": "0d3da900",
   "metadata": {},
   "outputs": [
    {
     "data": {
      "text/plain": [
       "6509"
      ]
     },
     "execution_count": 11,
     "metadata": {},
     "output_type": "execute_result"
    }
   ],
   "source": [
    "len(set(cofacts_covid.article_id))"
   ]
  },
  {
   "cell_type": "code",
   "execution_count": 12,
   "id": "17ad6232",
   "metadata": {},
   "outputs": [],
   "source": [
    "cofacts_daily_views_count = cofacts_daily_views_df.groupby(by='article_id', as_index=False).sum()\n",
    "cofacts_daily_views_count = cofacts_daily_views_df.groupby(by='article_id', as_index=False).sum()\n",
    "cofacts_daily_views_count = cofacts_daily_views_df.groupby(by='article_id', as_index=False).sum()"
   ]
  },
  {
   "cell_type": "code",
   "execution_count": 13,
   "id": "e09caafc",
   "metadata": {},
   "outputs": [],
   "source": [
    "cofacts_coexist_report = cofacts_coexist[['label', 'article_id', 'article_type_count']].merge(cofacts_daily_views_pivot, how='left')\n",
    "cofacts_vaccine_report = cofacts_vaccine[['label', 'article_id', 'article_type_count']].merge(cofacts_daily_views_pivot, how='left')\n",
    "cofacts_rapid_test_report = cofacts_rapid_test[['label', 'article_id', 'article_type_count']].merge(cofacts_daily_views_pivot, how='left')"
   ]
  },
  {
   "cell_type": "markdown",
   "id": "457068e5",
   "metadata": {},
   "source": [
    "### group by label"
   ]
  },
  {
   "cell_type": "code",
   "execution_count": 14,
   "id": "aedeab50",
   "metadata": {},
   "outputs": [],
   "source": [
    "cofacts_coexist_report_label = cofacts_coexist_report.groupby(by='label', as_index=False).sum()\n",
    "cofacts_vaccine_report_label = cofacts_vaccine_report.groupby(by='label', as_index=False).sum()\n",
    "cofacts_rapid_test_report_label = cofacts_rapid_test_report.groupby(by='label', as_index=False).sum()"
   ]
  },
  {
   "cell_type": "code",
   "execution_count": 15,
   "id": "1df038ae",
   "metadata": {},
   "outputs": [],
   "source": [
    "def cofacts_stats(df):\n",
    "    label_stats = []\n",
    "    for idx in df.index:\n",
    "        label_daily_array = np.array(df.iloc[idx, 1:], dtype = np.float64)\n",
    "        label_cos_sim = cosine_similarity([label_daily_array], [cofacts_covid_report_bg_array])[0][0]\n",
    "        label_corr = np.corrcoef(label_daily_array.reshape(1, -1), \n",
    "                                 np.array(cofacts_covid_report_bg_array, dtype = np.int64).reshape(1, -1))[0,1]\n",
    "        \n",
    "        \n",
    "        label_stats.append([df.iloc[idx, 0],\n",
    "                              sum(df.iloc[idx][1:]),\n",
    "                              label_corr,\n",
    "                              label_cos_sim,\n",
    "                              df.iloc[idx][1:].kurt()])\n",
    "        \n",
    "    label_stats = pd.DataFrame(label_stats, columns=['label', 'label_views_sum', 'label_corr',\n",
    "                                                     'label_cos_sim', 'label_kurt'])\n",
    "    return label_stats"
   ]
  },
  {
   "cell_type": "code",
   "execution_count": 16,
   "id": "2fd069e0",
   "metadata": {},
   "outputs": [],
   "source": [
    "cofacts_covid_report_label_sim = cofacts_stats(cofacts_covid_report_label)"
   ]
  },
  {
   "cell_type": "code",
   "execution_count": 17,
   "id": "e0a12b59",
   "metadata": {},
   "outputs": [],
   "source": [
    "cofacts_coexist_report_label_sim = cofacts_stats(cofacts_coexist_report_label)\n",
    "cofacts_vaccine_report_label_sim = cofacts_stats(cofacts_vaccine_report_label)\n",
    "cofacts_rapid_test_report_label_sim = cofacts_stats(cofacts_rapid_test_report_label)"
   ]
  },
  {
   "cell_type": "markdown",
   "id": "30c2f415",
   "metadata": {},
   "source": [
    "# merge back"
   ]
  },
  {
   "cell_type": "code",
   "execution_count": 18,
   "id": "ffe4afea",
   "metadata": {},
   "outputs": [],
   "source": [
    "# article_sum\n",
    "cofacts_daily_views_count = cofacts_daily_views_df.groupby(by='article_id', as_index=False).sum()\n",
    "cofacts_daily_views_count = cofacts_daily_views_count.rename(columns={'views':'article_views'})"
   ]
  },
  {
   "cell_type": "code",
   "execution_count": 19,
   "id": "3dbba9bb",
   "metadata": {},
   "outputs": [],
   "source": [
    "# text\n",
    "cofacts_text = []\n",
    "tformat = \"%Y-%m-%d\"\n",
    "with open(root_path/'cofacts_20220319-20220513.json' , 'r', encoding='big5') as reader:\n",
    "    data = json.loads(reader.read())\n",
    "    for idx, article in enumerate(data):\n",
    "            cofacts_text.append([article['id'], article['text']])\n",
    "cofacts_text_df = pd.DataFrame(cofacts_text, columns=['article_id', 'text'])"
   ]
  },
  {
   "cell_type": "code",
   "execution_count": 20,
   "id": "bcaac539",
   "metadata": {},
   "outputs": [],
   "source": [
    "def merge_back(df):\n",
    "    df_stats = df.merge(cofacts_text_df, how='left')\\\n",
    "                 .merge(cofacts_daily_views_count, how='left')\\\n",
    "                 .merge(cofacts_covid_report_label_sim, how='left')\n",
    "    return df_stats"
   ]
  },
  {
   "cell_type": "code",
   "execution_count": 21,
   "id": "a66bfcd6",
   "metadata": {},
   "outputs": [],
   "source": [
    "cofacts_covid_stats = merge_back(cofacts_covid)\n",
    "cofacts_covid_stats.to_csv(out_path/'cofacts_covid_20220319-20220513_clustering_stats.csv', index=False)\n",
    "\n",
    "cofacts_coexist_stats = merge_back(cofacts_coexist)\n",
    "cofacts_coexist_stats.to_csv(out_path/'cofacts_coexist_20220319-20220513_clustering_stats.csv', index=False)\n",
    "\n",
    "cofacts_vaccine_stats = merge_back(cofacts_vaccine)\n",
    "cofacts_vaccine_stats.to_csv(out_path/'cofacts_vaccine_20220319-20220513_clustering_stats.csv', index=False)\n",
    "\n",
    "cofacts_rapid_test_stats = merge_back(cofacts_rapid_test)\n",
    "cofacts_rapid_test_stats.to_csv(out_path/'cofacts_rapid_tset_20220319-20220513_clustering_stats.csv', index=False)"
   ]
  },
  {
   "cell_type": "code",
   "execution_count": null,
   "id": "7f12ebcd",
   "metadata": {},
   "outputs": [],
   "source": []
  }
 ],
 "metadata": {
  "kernelspec": {
   "display_name": "Python 3 (ipykernel)",
   "language": "python",
   "name": "python3"
  },
  "language_info": {
   "codemirror_mode": {
    "name": "ipython",
    "version": 3
   },
   "file_extension": ".py",
   "mimetype": "text/x-python",
   "name": "python",
   "nbconvert_exporter": "python",
   "pygments_lexer": "ipython3",
   "version": "3.9.12"
  }
 },
 "nbformat": 4,
 "nbformat_minor": 5
}
