{
 "cells": [
  {
   "cell_type": "code",
   "execution_count": 19,
   "id": "59e4012b",
   "metadata": {},
   "outputs": [],
   "source": [
    "import pandas as pd\n",
    "import csv\n",
    "from pathlib import Path\n",
    "import json\n",
    "from sklearn.metrics.pairwise import cosine_similarity\n",
    "from itertools import combinations\n",
    "from itertools import permutations\n",
    "from igraph import *\n",
    "import matplotlib.pyplot as plt\n",
    "import numpy as np\n",
    "from datetime import datetime\n",
    "import time\n",
    "import seaborn as sns\n",
    "import io\n",
    "import requests\n",
    "from sklearn.cluster import KMeans\n",
    "from sklearn.metrics import silhouette_score\n",
    "from sklearn.model_selection import train_test_split\n",
    "from sklearn.neighbors import KNeighborsClassifier\n",
    "from sklearn.cluster import AgglomerativeClustering\n",
    "from sklearn.feature_extraction.text import CountVectorizer\n",
    "from sklearn.feature_extraction.text import TfidfTransformer\n",
    "from sklearn.feature_extraction.text import TfidfVectorizer\n",
    "import scipy.sparse\n",
    "from collections import Counter\n",
    "import re\n",
    "import math\n",
    "from opencc import OpenCC \n",
    "import string"
   ]
  },
  {
   "cell_type": "code",
   "execution_count": 20,
   "id": "54e87c57",
   "metadata": {},
   "outputs": [],
   "source": [
    "root_path = ###deleted for security reasons###\n",
    "out_path = ###deleted for security reasons###"
   ]
  },
  {
   "cell_type": "code",
   "execution_count": 21,
   "id": "6bebbb47",
   "metadata": {},
   "outputs": [],
   "source": [
    "# stop_words = open (r'/Users/ycchen/Desktop/dict/stop_words.txt','r', encoding='utf8')"
   ]
  },
  {
   "cell_type": "code",
   "execution_count": 22,
   "id": "79fe18b3",
   "metadata": {},
   "outputs": [],
   "source": [
    "# ['id', 'text', 'createdAt', 'stats', 'articleReplies', 'url', 'segment']\n",
    "cofacts_segment = {}\n",
    "tformat = \"%Y-%m-%d\"\n",
    "with open(root_path/'cofacts_20220319-20220513.json' , 'r', encoding='big5') as reader:\n",
    "    data = json.loads(reader.read())\n",
    "    for idx, article in enumerate(data):\n",
    "        for d in article['stats']:\n",
    "            ori_time = datetime.strptime(d['date'].split('T')[0], tformat)\n",
    "            if ori_time >= datetime.strptime('2022-03-19', tformat) and ori_time <= datetime.strptime('2022-05-13', tformat):\n",
    "                cofacts_segment[idx] = {'article_id':data[idx]['id'],\n",
    "                                        'createdAt': data[idx]['createdAt'].split('T')[0],\n",
    "                                        'text': data[idx]['text'], \n",
    "                                        'segment': data[idx]['segment']}"
   ]
  },
  {
   "cell_type": "code",
   "execution_count": 23,
   "id": "dde45404",
   "metadata": {},
   "outputs": [
    {
     "name": "stdout",
     "output_type": "stream",
     "text": [
      "22525\n"
     ]
    }
   ],
   "source": [
    "print(len(cofacts_segment))"
   ]
  },
  {
   "cell_type": "code",
   "execution_count": 24,
   "id": "8ce087ae",
   "metadata": {},
   "outputs": [],
   "source": [
    "#simplified chinese to traditional chinese\n",
    "cc = OpenCC('s2t')\n",
    "\n",
    "for k in cofacts_segment.keys():\n",
    "    cofacts_segment[k]['segment_t'] = [cc.convert(s) for s in cofacts_segment[k]['segment']]"
   ]
  },
  {
   "cell_type": "markdown",
   "id": "c14b0780",
   "metadata": {},
   "source": [
    "# functions"
   ]
  },
  {
   "cell_type": "code",
   "execution_count": 25,
   "id": "a5cef19c",
   "metadata": {},
   "outputs": [],
   "source": [
    "def is_all_chinese(strs):\n",
    "    for _char in strs:\n",
    "        if not '\\u4e00' <= _char <= '\\u9fa5':\n",
    "            return False\n",
    "    return True"
   ]
  },
  {
   "cell_type": "code",
   "execution_count": 26,
   "id": "77d005a2",
   "metadata": {},
   "outputs": [],
   "source": [
    "def contains_chinese(strs):\n",
    "    for _char in strs:\n",
    "        if '\\u4e00' <= _char <= '\\u9fa5':\n",
    "            return True\n",
    "    return False"
   ]
  },
  {
   "cell_type": "code",
   "execution_count": 27,
   "id": "5877c909",
   "metadata": {},
   "outputs": [],
   "source": [
    "def contains_url(text):\n",
    "    url_elements = ['http', 'www']\n",
    "    result = 'no'\n",
    "    if any(ue in text and ue for ue in url_elements)==True:\n",
    "        result = 'yes'\n",
    "    return result"
   ]
  },
  {
   "cell_type": "code",
   "execution_count": 28,
   "id": "fe6bb3e1",
   "metadata": {
    "scrolled": true
   },
   "outputs": [],
   "source": [
    "def contains_url_format(text):\n",
    "    url_elements = ['http', 'www']\n",
    "    check = list([np.sign(text.find(ue)) for ue in url_elements])\n",
    "    \n",
    "    result = 'both'\n",
    "    if check==[-1, -1]:\n",
    "        result = 'no_url'\n",
    "\n",
    "    elif len(re.split('\\n| |　', text)) == 1:\n",
    "        if check==[0,-1] or check==[0,1]:\n",
    "            result = 'only_url'\n",
    "    else:\n",
    "        pass\n",
    "        \n",
    "    return result"
   ]
  },
  {
   "cell_type": "code",
   "execution_count": 29,
   "id": "bf846101",
   "metadata": {},
   "outputs": [],
   "source": [
    "def catagorize(text, key_word_list):\n",
    "    result = 'no'\n",
    "    if any(kw in text and kw for kw in key_word_list)==True:\n",
    "        return 'yes'\n",
    "    else:\n",
    "        return 'no'"
   ]
  },
  {
   "cell_type": "code",
   "execution_count": 30,
   "id": "3912ab37",
   "metadata": {},
   "outputs": [],
   "source": [
    "def creat_new_dict(old_dict, new_dict, category):\n",
    "    new_dict = {\n",
    "        'article_id':old_dict[k]['article_id'],\n",
    "        'createdAt':old_dict[k]['createdAt'],\n",
    "#         'text':old_dict[k]['text'],\n",
    "        'clean_segment':old_dict[k]['clean_segment'],\n",
    "        'category':category\n",
    "        }\n",
    "    return new_dict"
   ]
  },
  {
   "cell_type": "markdown",
   "id": "32fff7aa",
   "metadata": {},
   "source": [
    "# catagorize"
   ]
  },
  {
   "cell_type": "code",
   "execution_count": 31,
   "id": "c04c8ecc",
   "metadata": {},
   "outputs": [],
   "source": [
    "punctuation = string.punctuation\n",
    "for k in cofacts_segment.keys():\n",
    "    clean_segment = []\n",
    "    segments = cofacts_segment[k]['segment_t']\n",
    "    \n",
    "    for w in segments:\n",
    "        if is_all_chinese(w)==True and len(w)>1 and w not in punctuation:\n",
    "            clean_segment.append(w.replace('\\n',''))\n",
    "    cofacts_segment[k]['clean_segment'] = clean_segment"
   ]
  },
  {
   "cell_type": "code",
   "execution_count": 32,
   "id": "ba15a1ea",
   "metadata": {},
   "outputs": [],
   "source": [
    "key_words_1 = ['疫情', '隔離', '疫苗', '防疫' ,'病毒', '新冠' , '肺炎', '快篩']\n",
    "key_words_2 = ['共存', '清零']\n",
    "key_words_3 = ['疫苗']\n",
    "key_words_4 = ['快篩', 'pcr', 'PCR', 'Pcr']"
   ]
  },
  {
   "cell_type": "code",
   "execution_count": 44,
   "id": "8f150928",
   "metadata": {},
   "outputs": [
    {
     "name": "stdout",
     "output_type": "stream",
     "text": [
      "This time is being calculated\n",
      "7.300000000043383e-05\n"
     ]
    }
   ],
   "source": [
    "start = time.process_time()\n",
    "end = time.process_time()\n",
    "\n",
    "covid_dict = {}\n",
    "coexist_dict = {}\n",
    "vaccine_dict = {}\n",
    "rapid_test_dict = {}\n",
    "\n",
    "for k in cofacts_segment.keys():\n",
    "    text = cofacts_segment[k]['text']\n",
    "    covid_text = catagorize(text, key_words_1)\n",
    "    coexist_text = catagorize(text, key_words_2)\n",
    "    vaccine_text = catagorize(text, key_words_3)\n",
    "    rapid_test_text = catagorize(text, key_words_4)\n",
    "    \n",
    "    if covid_text == 'yes':\n",
    "        covid_dict[k] = creat_new_dict(cofacts_segment, covid_dict, 'covid')\n",
    "        if coexist_text == 'yes':\n",
    "            coexist_dict[k] = creat_new_dict(cofacts_segment, coexist_dict, 'coexist')\n",
    "        if vaccine_text == 'yes':\n",
    "            vaccine_dict[k] = creat_new_dict(cofacts_segment, vaccine_dict, 'vaccine')\n",
    "        if rapid_test_text == 'yes':\n",
    "            rapid_test_dict[k] = creat_new_dict(cofacts_segment, rapid_test_dict, 'rapid_test')\n",
    "\n",
    "print(\"This time is being calculated\")\n",
    "print(end - start)  "
   ]
  },
  {
   "cell_type": "code",
   "execution_count": 45,
   "id": "acf2c297",
   "metadata": {},
   "outputs": [],
   "source": [
    "coexist_set = set()\n",
    "for k in coexist_dict.keys():\n",
    "    coexist_set.add(coexist_dict[k]['article_id'])"
   ]
  },
  {
   "cell_type": "code",
   "execution_count": 46,
   "id": "adc25c3b",
   "metadata": {},
   "outputs": [],
   "source": [
    "rapid_test_set = set()\n",
    "for k in rapid_test_dict.keys():\n",
    "    rapid_test_set.add(rapid_test_dict[k]['article_id'])"
   ]
  },
  {
   "cell_type": "code",
   "execution_count": 54,
   "id": "8041895f",
   "metadata": {},
   "outputs": [
    {
     "data": {
      "text/plain": [
       "6509"
      ]
     },
     "execution_count": 54,
     "metadata": {},
     "output_type": "execute_result"
    }
   ],
   "source": [
    "len(covid_dict)"
   ]
  },
  {
   "cell_type": "code",
   "execution_count": 48,
   "id": "18d7c80f",
   "metadata": {},
   "outputs": [],
   "source": [
    "with open(root_path/\"cofacts_covid_20220319-20220513.json\", \"w\") as f:\n",
    "    json.dump(covid_dict, f, indent = 4)\n",
    "    \n",
    "with open(root_path/\"cofacts_coexist_20220319-20220513.json\", \"w\") as f:\n",
    "    json.dump(coexist_dict, f, indent = 4)\n",
    "    \n",
    "with open(root_path/\"cofacts_vaccine_20220319-20220513.json\", \"w\") as f:\n",
    "    json.dump(vaccine_dict, f, indent = 4)\n",
    "    \n",
    "with open(root_path/\"cofacts_rapid_test_20220319-20220513.json\", \"w\") as f:\n",
    "    json.dump(rapid_test_dict, f, indent = 4)"
   ]
  },
  {
   "cell_type": "markdown",
   "id": "e317a0e6",
   "metadata": {},
   "source": [
    "# url_format"
   ]
  },
  {
   "cell_type": "code",
   "execution_count": 17,
   "id": "12f5e6a9",
   "metadata": {},
   "outputs": [],
   "source": [
    "# start = time.process_time()# end = time.process_time()\n",
    "\n",
    "# for k in cofacts_segment.keys():\n",
    "#     text = cofacts_segment[k]['text'].lower()\n",
    "#     cofacts_segment[k]['contains_url'] = contains_url(text)\n",
    "#     cofacts_segment[k]['contains_url_format'] = contains_url_format(text)\n",
    "    \n",
    "# print(\"This time is being calculated\")\n",
    "# print(end - start)  "
   ]
  },
  {
   "cell_type": "code",
   "execution_count": 18,
   "id": "1aade749",
   "metadata": {},
   "outputs": [],
   "source": [
    "# for k in cofacts_segment.keys():\n",
    "#     clean_segment = []\n",
    "#     segments = cofacts_segment[k]['segment_t']\n",
    "    \n",
    "# #     if data[k]['contains_url_format'] != 'only_url':          \n",
    "#     for w in segments:\n",
    "#         if is_all_chinese(w)==True and len(w)>1:\n",
    "#             clean_segment.append(w.replace('\\n',''))\n",
    "#     cofacts_segment[k]['clean_segment'] = clean_segment"
   ]
  }
 ],
 "metadata": {
  "kernelspec": {
   "display_name": "Python 3 (ipykernel)",
   "language": "python",
   "name": "python3"
  },
  "language_info": {
   "codemirror_mode": {
    "name": "ipython",
    "version": 3
   },
   "file_extension": ".py",
   "mimetype": "text/x-python",
   "name": "python",
   "nbconvert_exporter": "python",
   "pygments_lexer": "ipython3",
   "version": "3.9.12"
  }
 },
 "nbformat": 4,
 "nbformat_minor": 5
}
