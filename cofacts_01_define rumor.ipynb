{
 "cells": [
  {
   "cell_type": "code",
   "execution_count": 1,
   "id": "ffb0d02f",
   "metadata": {},
   "outputs": [],
   "source": [
    "import pandas as pd\n",
    "import csv\n",
    "from pathlib import Path\n",
    "import json\n",
    "import numpy as np\n",
    "from datetime import datetime\n",
    "import time\n",
    "import os"
   ]
  },
  {
   "cell_type": "code",
   "execution_count": 10,
   "id": "f1cf84ca",
   "metadata": {},
   "outputs": [],
   "source": [
    "root_path = #deleted for security reasons\n",
    "out_path = #deleted for security reasons"
   ]
  },
  {
   "cell_type": "code",
   "execution_count": 3,
   "id": "c6d34638",
   "metadata": {
    "collapsed": true
   },
   "outputs": [
    {
     "name": "stderr",
     "output_type": "stream",
     "text": [
      "/opt/homebrew/lib/python3.9/site-packages/openpyxl/worksheet/header_footer.py:48: UserWarning: Cannot parse header or footer so it will be ignored\n",
      "  warn(\"\"\"Cannot parse header or footer so it will be ignored\"\"\")\n"
     ]
    }
   ],
   "source": [
    "# \"data\" are all sheets as a dictionary\n",
    "data = pd.read_excel(root_path/'cofacts_20220322-20220422_20220503dump.xlsx', sheet_name = None) \n",
    "xls = pd.ExcelFile(root_path/'cofacts_20220322-20220422_20220503dump.xlsx')"
   ]
  },
  {
   "cell_type": "code",
   "execution_count": 4,
   "id": "d5c95ec8",
   "metadata": {},
   "outputs": [
    {
     "data": {
      "text/plain": [
       "['WebUser', 'WebVisit', 'lineUser', 'lineVisit', 'Reply']"
      ]
     },
     "execution_count": 4,
     "metadata": {},
     "output_type": "execute_result"
    }
   ],
   "source": [
    "# see all sheet names\n",
    "xls.sheet_names"
   ]
  },
  {
   "cell_type": "code",
   "execution_count": 6,
   "id": "e06b5dc1",
   "metadata": {},
   "outputs": [],
   "source": [
    "webuser = set(data.get('WebUser')['id'])\n",
    "webwebvisituser = set(data.get('WebVisit')['id'])\n",
    "lineuser = set(data.get('lineUser')['id'])\n",
    "linevisit = set(data.get('lineVisit')['id'])\n",
    "reply = data.get('Reply')"
   ]
  },
  {
   "cell_type": "code",
   "execution_count": 7,
   "id": "01274604",
   "metadata": {},
   "outputs": [
    {
     "name": "stdout",
     "output_type": "stream",
     "text": [
      "16892\n"
     ]
    }
   ],
   "source": [
    "#總回報量\n",
    "all_article_id = webuser.union(webwebvisituser).union(lineuser).union(linevisit)\n",
    "print(len(all_article_id))"
   ]
  },
  {
   "cell_type": "code",
   "execution_count": 8,
   "id": "b5dfa64e",
   "metadata": {},
   "outputs": [],
   "source": [
    "reply = data.get('Reply')"
   ]
  },
  {
   "cell_type": "code",
   "execution_count": 9,
   "id": "bf9bee5b",
   "metadata": {},
   "outputs": [],
   "source": [
    "for c in reply.columns:\n",
    "    reply = reply.rename(columns={c:c.replace(' ','_')})"
   ]
  },
  {
   "cell_type": "code",
   "execution_count": 11,
   "id": "d9c86ca5",
   "metadata": {},
   "outputs": [
    {
     "name": "stdout",
     "output_type": "stream",
     "text": [
      "9496\n"
     ]
    }
   ],
   "source": [
    "#已查核筆數\n",
    "replied_article_id_set = set(reply['article_id'])\n",
    "print(len(replied_article_id_set))"
   ]
  },
  {
   "cell_type": "code",
   "execution_count": 168,
   "id": "d2c24a82",
   "metadata": {},
   "outputs": [
    {
     "data": {
      "text/plain": [
       "7396"
      ]
     },
     "execution_count": 168,
     "metadata": {},
     "output_type": "execute_result"
    }
   ],
   "source": [
    "#未查核筆數\n",
    "len(all_article_id) - len(replied_article_id_set)"
   ]
  },
  {
   "cell_type": "code",
   "execution_count": 13,
   "id": "8e5beca6",
   "metadata": {},
   "outputs": [
    {
     "data": {
      "text/plain": [
       "0.5621596021785461"
      ]
     },
     "execution_count": 13,
     "metadata": {},
     "output_type": "execute_result"
    }
   ],
   "source": [
    "#被查證比例\n",
    "len(replied_article_id_set)/len(all_article_id)"
   ]
  },
  {
   "cell_type": "code",
   "execution_count": 15,
   "id": "c2fd2443",
   "metadata": {},
   "outputs": [],
   "source": [
    "#單篇回報被查證數量\n",
    "reply_count = reply[['article_id', 'reply_id']].groupby(by='article_id', as_index=False).count()\\\n",
    ".sort_values(by='reply_id', ascending=False)\\\n",
    ".rename(columns={'reply_id':'reply_id_size'})"
   ]
  },
  {
   "cell_type": "markdown",
   "id": "434267ea",
   "metadata": {},
   "source": [
    "# 編碼"
   ]
  },
  {
   "cell_type": "code",
   "execution_count": 19,
   "id": "d48d6089",
   "metadata": {},
   "outputs": [
    {
     "name": "stdout",
     "output_type": "stream",
     "text": [
      "This time is being calculated\n",
      "4.800000000315663e-05\n"
     ]
    }
   ],
   "source": [
    "# {'NOT_ARTICLE', 'NOT_RUMOR', 'OPINIONATED', 'RUMOR'}\n",
    "# 不在查證範圍, 含有真實訊息, 含有個人意見, 含有錯誤訊息\n",
    "start = time.process_time()\n",
    "end = time.process_time()\n",
    "\n",
    "for rows in reply.itertuples():\n",
    "    if reply.loc[rows.Index, 'reply_type'] == 'RUMOR':\n",
    "        reply.loc[rows.Index, 'type_score'] = -1\n",
    "    elif reply.loc[rows.Index, 'reply_type'] == 'NOT_RUMOR':\n",
    "        reply.loc[rows.Index, 'type_score'] = 1\n",
    "    elif reply.loc[rows.Index, 'reply_type'] == 'OPINIONATED':\n",
    "        reply.loc[rows.Index, 'type_score'] = -1\n",
    "    elif reply.loc[rows.Index, 'reply_type'] == 'NOT_ARTICLE':\n",
    "        reply.loc[rows.Index, 'type_score'] = 0\n",
    "        \n",
    "print(\"This time is being calculated\")\n",
    "print(end - start)  "
   ]
  },
  {
   "cell_type": "markdown",
   "id": "ba0227cf",
   "metadata": {},
   "source": [
    "# article_truth_score\n",
    "## count"
   ]
  },
  {
   "cell_type": "code",
   "execution_count": 22,
   "id": "74c384b3",
   "metadata": {},
   "outputs": [
    {
     "name": "stdout",
     "output_type": "stream",
     "text": [
      "This time is being calculated\n",
      "4.900000000063187e-05\n"
     ]
    }
   ],
   "source": [
    "#每個回應給出的truth_score\n",
    "start = time.process_time()\n",
    "end = time.process_time()\n",
    "\n",
    "for rows in reply.itertuples():\n",
    "    reply.loc[rows.Index, 'reply_truth_score'] \\\n",
    "        =reply.loc[rows.Index, 'type_score']*reply.loc[rows.Index, 'reply_positiveFeedbackCount']\\\n",
    "        -reply.loc[rows.Index, 'type_score']*reply.loc[rows.Index, 'reply_negativeFeedbackCount']\n",
    "\n",
    "print(\"This time is being calculated\")\n",
    "print(end - start)  "
   ]
  },
  {
   "cell_type": "code",
   "execution_count": 26,
   "id": "a0a03442",
   "metadata": {},
   "outputs": [],
   "source": [
    "#相加成每篇文章的truth_score\n",
    "reply_article_truth_score = reply[['article_id', 'reply_truth_score']].groupby(by='article_id', as_index=False).sum()\\\n",
    "                            .rename(columns={'reply_truth_score':'article_truth_score_count'})"
   ]
  },
  {
   "cell_type": "code",
   "execution_count": 104,
   "id": "5dcd1e3d",
   "metadata": {},
   "outputs": [],
   "source": [
    "reply_type_count=[]\n",
    "\n",
    "for idx in replied_article_id_set:\n",
    "    reply_type_set = set(reply[reply.article_id==idx]['reply_type'])\n",
    "    reply_type_count.append((idx, len(reply_type_set), str(reply_type_set)))\n",
    "    \n",
    "article_reply_type_set = pd.DataFrame(reply_type_count, \n",
    "                                      columns=['article_id', 'reply_type_count', 'reply_type_set'])"
   ]
  },
  {
   "cell_type": "code",
   "execution_count": 105,
   "id": "343da921",
   "metadata": {},
   "outputs": [],
   "source": [
    "reply_size = reply[['article_id', 'reply_id']].groupby(by='article_id', as_index=False).size()"
   ]
  },
  {
   "cell_type": "code",
   "execution_count": 114,
   "id": "2d85bbed",
   "metadata": {},
   "outputs": [],
   "source": [
    "article_truth_score_count = article_reply_type_set.merge(reply_size).merge(reply_article_truth_score)"
   ]
  },
  {
   "cell_type": "code",
   "execution_count": 116,
   "id": "e8ce18ed",
   "metadata": {},
   "outputs": [],
   "source": [
    "for rows in article_truth_score_count.itertuples():\n",
    "    if article_truth_score_count.loc[rows.Index, 'article_truth_score_count'] >0:\n",
    "        article_truth_score_count.loc[rows.Index, 'article_type_count'] = '不是謠言'\n",
    "    elif article_truth_score_count.loc[rows.Index, 'article_truth_score_count'] ==0:\n",
    "        article_truth_score_count.loc[rows.Index, 'article_type_count'] = '無法判斷或不在查證範圍'\n",
    "    elif article_truth_score_count.loc[rows.Index, 'article_truth_score_count'] <0:\n",
    "        article_truth_score_count.loc[rows.Index, 'article_type_count'] = '謠言或個人意見'"
   ]
  },
  {
   "cell_type": "code",
   "execution_count": 117,
   "id": "675a51cd",
   "metadata": {},
   "outputs": [
    {
     "data": {
      "text/html": [
       "<div>\n",
       "<style scoped>\n",
       "    .dataframe tbody tr th:only-of-type {\n",
       "        vertical-align: middle;\n",
       "    }\n",
       "\n",
       "    .dataframe tbody tr th {\n",
       "        vertical-align: top;\n",
       "    }\n",
       "\n",
       "    .dataframe thead th {\n",
       "        text-align: right;\n",
       "    }\n",
       "</style>\n",
       "<table border=\"1\" class=\"dataframe\">\n",
       "  <thead>\n",
       "    <tr style=\"text-align: right;\">\n",
       "      <th></th>\n",
       "      <th>article_id</th>\n",
       "      <th>reply_type_count</th>\n",
       "      <th>reply_type_set</th>\n",
       "      <th>size</th>\n",
       "      <th>article_truth_score_count</th>\n",
       "      <th>article_type_count</th>\n",
       "    </tr>\n",
       "  </thead>\n",
       "  <tbody>\n",
       "    <tr>\n",
       "      <th>7155</th>\n",
       "      <td>3uzlh41rh4oqm</td>\n",
       "      <td>1</td>\n",
       "      <td>{'RUMOR'}</td>\n",
       "      <td>2</td>\n",
       "      <td>-1006.0</td>\n",
       "      <td>謠言或個人意見</td>\n",
       "    </tr>\n",
       "    <tr>\n",
       "      <th>6735</th>\n",
       "      <td>1qhjmled1mv2w</td>\n",
       "      <td>1</td>\n",
       "      <td>{'RUMOR'}</td>\n",
       "      <td>2</td>\n",
       "      <td>-502.0</td>\n",
       "      <td>謠言或個人意見</td>\n",
       "    </tr>\n",
       "    <tr>\n",
       "      <th>6058</th>\n",
       "      <td>oikfzsvt011y</td>\n",
       "      <td>2</td>\n",
       "      <td>{'NOT_ARTICLE', 'RUMOR'}</td>\n",
       "      <td>4</td>\n",
       "      <td>-310.0</td>\n",
       "      <td>謠言或個人意見</td>\n",
       "    </tr>\n",
       "    <tr>\n",
       "      <th>7670</th>\n",
       "      <td>119qngktbf3wm</td>\n",
       "      <td>1</td>\n",
       "      <td>{'RUMOR'}</td>\n",
       "      <td>3</td>\n",
       "      <td>-277.0</td>\n",
       "      <td>謠言或個人意見</td>\n",
       "    </tr>\n",
       "    <tr>\n",
       "      <th>3059</th>\n",
       "      <td>m8ygcym6vxz1</td>\n",
       "      <td>1</td>\n",
       "      <td>{'RUMOR'}</td>\n",
       "      <td>1</td>\n",
       "      <td>-240.0</td>\n",
       "      <td>謠言或個人意見</td>\n",
       "    </tr>\n",
       "    <tr>\n",
       "      <th>...</th>\n",
       "      <td>...</td>\n",
       "      <td>...</td>\n",
       "      <td>...</td>\n",
       "      <td>...</td>\n",
       "      <td>...</td>\n",
       "      <td>...</td>\n",
       "    </tr>\n",
       "    <tr>\n",
       "      <th>6775</th>\n",
       "      <td>1wde3u5mvcqzy</td>\n",
       "      <td>1</td>\n",
       "      <td>{'NOT_RUMOR'}</td>\n",
       "      <td>1</td>\n",
       "      <td>77.0</td>\n",
       "      <td>不是謠言</td>\n",
       "    </tr>\n",
       "    <tr>\n",
       "      <th>1397</th>\n",
       "      <td>2lnupn6kprnz5</td>\n",
       "      <td>1</td>\n",
       "      <td>{'NOT_RUMOR'}</td>\n",
       "      <td>1</td>\n",
       "      <td>79.0</td>\n",
       "      <td>不是謠言</td>\n",
       "    </tr>\n",
       "    <tr>\n",
       "      <th>2547</th>\n",
       "      <td>3ppeiqj59yffi</td>\n",
       "      <td>1</td>\n",
       "      <td>{'NOT_RUMOR'}</td>\n",
       "      <td>1</td>\n",
       "      <td>111.0</td>\n",
       "      <td>不是謠言</td>\n",
       "    </tr>\n",
       "    <tr>\n",
       "      <th>4531</th>\n",
       "      <td>1frt07jdgygwy</td>\n",
       "      <td>1</td>\n",
       "      <td>{'NOT_RUMOR'}</td>\n",
       "      <td>1</td>\n",
       "      <td>112.0</td>\n",
       "      <td>不是謠言</td>\n",
       "    </tr>\n",
       "    <tr>\n",
       "      <th>7828</th>\n",
       "      <td>3a352y2wv2rvb</td>\n",
       "      <td>1</td>\n",
       "      <td>{'NOT_RUMOR'}</td>\n",
       "      <td>1</td>\n",
       "      <td>168.0</td>\n",
       "      <td>不是謠言</td>\n",
       "    </tr>\n",
       "  </tbody>\n",
       "</table>\n",
       "<p>9496 rows × 6 columns</p>\n",
       "</div>"
      ],
      "text/plain": [
       "         article_id  reply_type_count            reply_type_set  size  \\\n",
       "7155  3uzlh41rh4oqm                 1                 {'RUMOR'}     2   \n",
       "6735  1qhjmled1mv2w                 1                 {'RUMOR'}     2   \n",
       "6058   oikfzsvt011y                 2  {'NOT_ARTICLE', 'RUMOR'}     4   \n",
       "7670  119qngktbf3wm                 1                 {'RUMOR'}     3   \n",
       "3059   m8ygcym6vxz1                 1                 {'RUMOR'}     1   \n",
       "...             ...               ...                       ...   ...   \n",
       "6775  1wde3u5mvcqzy                 1             {'NOT_RUMOR'}     1   \n",
       "1397  2lnupn6kprnz5                 1             {'NOT_RUMOR'}     1   \n",
       "2547  3ppeiqj59yffi                 1             {'NOT_RUMOR'}     1   \n",
       "4531  1frt07jdgygwy                 1             {'NOT_RUMOR'}     1   \n",
       "7828  3a352y2wv2rvb                 1             {'NOT_RUMOR'}     1   \n",
       "\n",
       "      article_truth_score_count article_type_count  \n",
       "7155                    -1006.0            謠言或個人意見  \n",
       "6735                     -502.0            謠言或個人意見  \n",
       "6058                     -310.0            謠言或個人意見  \n",
       "7670                     -277.0            謠言或個人意見  \n",
       "3059                     -240.0            謠言或個人意見  \n",
       "...                         ...                ...  \n",
       "6775                       77.0               不是謠言  \n",
       "1397                       79.0               不是謠言  \n",
       "2547                      111.0               不是謠言  \n",
       "4531                      112.0               不是謠言  \n",
       "7828                      168.0               不是謠言  \n",
       "\n",
       "[9496 rows x 6 columns]"
      ]
     },
     "execution_count": 117,
     "metadata": {},
     "output_type": "execute_result"
    }
   ],
   "source": [
    "article_truth_score_count.sort_values(by=['article_truth_score_count', 'reply_type_count'], ascending=True)"
   ]
  },
  {
   "cell_type": "code",
   "execution_count": 31,
   "id": "02abacbb",
   "metadata": {},
   "outputs": [],
   "source": [
    "article_truth_score.to_csv(out_path/'cofacts_truth_score_20220322-20220422.csv', index=False)"
   ]
  },
  {
   "cell_type": "markdown",
   "id": "052cc50a",
   "metadata": {},
   "source": [
    "## normalize"
   ]
  },
  {
   "cell_type": "code",
   "execution_count": 79,
   "id": "0744e041",
   "metadata": {},
   "outputs": [],
   "source": [
    "#相同reply_type的like/dislike加總\n",
    "reply_type_prop = reply[['article_id', 'reply_type', 'type_score', \n",
    "                         'reply_positiveFeedbackCount', 'reply_negativeFeedbackCount']]\\\n",
    "                  .groupby(by=['article_id', 'reply_type', 'type_score'], as_index=False).sum()"
   ]
  },
  {
   "cell_type": "code",
   "execution_count": 68,
   "id": "d352d3e8",
   "metadata": {},
   "outputs": [
    {
     "data": {
      "text/plain": [
       "(10951, 5)"
      ]
     },
     "execution_count": 68,
     "metadata": {},
     "output_type": "execute_result"
    }
   ],
   "source": [
    "reply[['article_id', 'reply_type', 'type_score', \n",
    "        'reply_positiveFeedbackCount', 'reply_negativeFeedbackCount']].shape"
   ]
  },
  {
   "cell_type": "code",
   "execution_count": 69,
   "id": "df716830",
   "metadata": {},
   "outputs": [],
   "source": [
    "reply_type_like_count = reply_type_prop[['article_id', 'reply_positiveFeedbackCount', 'reply_negativeFeedbackCount']]\\\n",
    "                        .groupby(by='article_id', as_index=False).sum()"
   ]
  },
  {
   "cell_type": "code",
   "execution_count": 75,
   "id": "bd539ec6",
   "metadata": {},
   "outputs": [
    {
     "data": {
      "text/plain": [
       "(9496, 4)"
      ]
     },
     "execution_count": 75,
     "metadata": {},
     "output_type": "execute_result"
    }
   ],
   "source": [
    "reply_type_like_count.shape"
   ]
  },
  {
   "cell_type": "code",
   "execution_count": 70,
   "id": "7d91f97f",
   "metadata": {},
   "outputs": [],
   "source": [
    "reply_type_like_count['article_denominator'] = reply_type_like_count['reply_positiveFeedbackCount']\\\n",
    "                                     + reply_type_like_count['reply_negativeFeedbackCount']"
   ]
  },
  {
   "cell_type": "code",
   "execution_count": 90,
   "id": "219f81f1",
   "metadata": {
    "scrolled": true
   },
   "outputs": [],
   "source": [
    "reply_type_prop['numerator'] = (reply_type_prop['reply_positiveFeedbackCount']\\\n",
    "                                -reply_type_prop['reply_negativeFeedbackCount'])*reply_type_prop['type_score']"
   ]
  },
  {
   "cell_type": "code",
   "execution_count": 93,
   "id": "35dbb4a4",
   "metadata": {},
   "outputs": [],
   "source": [
    "reply_type_prop_numerator = reply_type_prop[['article_id', 'numerator']].groupby(by='article_id', as_index=False).sum()"
   ]
  },
  {
   "cell_type": "code",
   "execution_count": 95,
   "id": "a30cbd1a",
   "metadata": {},
   "outputs": [],
   "source": [
    "reply_type_prop_fraction = reply_type_prop_numerator.merge(reply_type_like_count)"
   ]
  },
  {
   "cell_type": "code",
   "execution_count": 96,
   "id": "3766f0dc",
   "metadata": {},
   "outputs": [],
   "source": [
    "reply_type_prop_fraction['reply_type_prop'] = reply_type_prop_fraction['numerator']/reply_type_prop_fraction['article_denominator']"
   ]
  },
  {
   "cell_type": "code",
   "execution_count": 102,
   "id": "b2c407cc",
   "metadata": {},
   "outputs": [],
   "source": [
    "reply_type_prop_fraction['reply_type_prop'] = reply_type_prop_fraction['reply_type_prop'].fillna(0)"
   ]
  },
  {
   "cell_type": "code",
   "execution_count": 118,
   "id": "bab2de28",
   "metadata": {},
   "outputs": [],
   "source": [
    "for rows in reply_type_prop_fraction.itertuples():\n",
    "    if reply_type_prop_fraction.loc[rows.Index, 'reply_type_prop'] >0:\n",
    "        reply_type_prop_fraction.loc[rows.Index, 'article_type_prop'] = '不是謠言'\n",
    "    elif reply_type_prop_fraction.loc[rows.Index, 'reply_type_prop'] ==0:\n",
    "        reply_type_prop_fraction.loc[rows.Index, 'article_type_prop'] = '無法判斷或不在查證範圍'\n",
    "    elif reply_type_prop_fraction.loc[rows.Index, 'reply_type_prop'] <0:\n",
    "        reply_type_prop_fraction.loc[rows.Index, 'article_type_prop'] = '謠言或個人意見'"
   ]
  },
  {
   "cell_type": "code",
   "execution_count": 129,
   "id": "ff175b5e",
   "metadata": {},
   "outputs": [],
   "source": [
    "article_truth_score_merge = article_truth_score_count.merge(reply_type_prop_fraction)\\\n",
    "                            .drop(columns=['size', 'reply_positiveFeedbackCount', 'reply_negativeFeedbackCount',\n",
    "                                           'numerator','article_denominator'])"
   ]
  },
  {
   "cell_type": "code",
   "execution_count": 132,
   "id": "577e4fa8",
   "metadata": {},
   "outputs": [
    {
     "data": {
      "text/html": [
       "<div>\n",
       "<style scoped>\n",
       "    .dataframe tbody tr th:only-of-type {\n",
       "        vertical-align: middle;\n",
       "    }\n",
       "\n",
       "    .dataframe tbody tr th {\n",
       "        vertical-align: top;\n",
       "    }\n",
       "\n",
       "    .dataframe thead th {\n",
       "        text-align: right;\n",
       "    }\n",
       "</style>\n",
       "<table border=\"1\" class=\"dataframe\">\n",
       "  <thead>\n",
       "    <tr style=\"text-align: right;\">\n",
       "      <th></th>\n",
       "      <th>article_id</th>\n",
       "      <th>reply_type_count</th>\n",
       "      <th>reply_type_set</th>\n",
       "      <th>article_truth_score_count</th>\n",
       "      <th>article_type_count</th>\n",
       "      <th>reply_type_prop</th>\n",
       "      <th>article_type_prop</th>\n",
       "    </tr>\n",
       "  </thead>\n",
       "  <tbody>\n",
       "    <tr>\n",
       "      <th>0</th>\n",
       "      <td>1dqqhpqxn4dk0</td>\n",
       "      <td>1</td>\n",
       "      <td>{'RUMOR'}</td>\n",
       "      <td>-1.0</td>\n",
       "      <td>謠言或個人意見</td>\n",
       "      <td>-0.200000</td>\n",
       "      <td>謠言或個人意見</td>\n",
       "    </tr>\n",
       "    <tr>\n",
       "      <th>1</th>\n",
       "      <td>3t48ii3p66cbm</td>\n",
       "      <td>1</td>\n",
       "      <td>{'OPINIONATED'}</td>\n",
       "      <td>-2.0</td>\n",
       "      <td>謠言或個人意見</td>\n",
       "      <td>-1.000000</td>\n",
       "      <td>謠言或個人意見</td>\n",
       "    </tr>\n",
       "    <tr>\n",
       "      <th>2</th>\n",
       "      <td>1bx9gnebv6p01</td>\n",
       "      <td>1</td>\n",
       "      <td>{'RUMOR'}</td>\n",
       "      <td>-2.0</td>\n",
       "      <td>謠言或個人意見</td>\n",
       "      <td>-1.000000</td>\n",
       "      <td>謠言或個人意見</td>\n",
       "    </tr>\n",
       "    <tr>\n",
       "      <th>3</th>\n",
       "      <td>14iyzlbojkvut</td>\n",
       "      <td>1</td>\n",
       "      <td>{'OPINIONATED'}</td>\n",
       "      <td>-2.0</td>\n",
       "      <td>謠言或個人意見</td>\n",
       "      <td>-1.000000</td>\n",
       "      <td>謠言或個人意見</td>\n",
       "    </tr>\n",
       "    <tr>\n",
       "      <th>4</th>\n",
       "      <td>2a2si2nph7960</td>\n",
       "      <td>1</td>\n",
       "      <td>{'OPINIONATED'}</td>\n",
       "      <td>-2.0</td>\n",
       "      <td>謠言或個人意見</td>\n",
       "      <td>-1.000000</td>\n",
       "      <td>謠言或個人意見</td>\n",
       "    </tr>\n",
       "    <tr>\n",
       "      <th>...</th>\n",
       "      <td>...</td>\n",
       "      <td>...</td>\n",
       "      <td>...</td>\n",
       "      <td>...</td>\n",
       "      <td>...</td>\n",
       "      <td>...</td>\n",
       "      <td>...</td>\n",
       "    </tr>\n",
       "    <tr>\n",
       "      <th>9491</th>\n",
       "      <td>371hkwndfzqp8</td>\n",
       "      <td>1</td>\n",
       "      <td>{'RUMOR'}</td>\n",
       "      <td>-1.0</td>\n",
       "      <td>謠言或個人意見</td>\n",
       "      <td>-1.000000</td>\n",
       "      <td>謠言或個人意見</td>\n",
       "    </tr>\n",
       "    <tr>\n",
       "      <th>9492</th>\n",
       "      <td>21g65qh6pls6e</td>\n",
       "      <td>1</td>\n",
       "      <td>{'RUMOR'}</td>\n",
       "      <td>-5.0</td>\n",
       "      <td>謠言或個人意見</td>\n",
       "      <td>-1.000000</td>\n",
       "      <td>謠言或個人意見</td>\n",
       "    </tr>\n",
       "    <tr>\n",
       "      <th>9493</th>\n",
       "      <td>3e35eai9dxjf8</td>\n",
       "      <td>1</td>\n",
       "      <td>{'NOT_RUMOR'}</td>\n",
       "      <td>1.0</td>\n",
       "      <td>不是謠言</td>\n",
       "      <td>1.000000</td>\n",
       "      <td>不是謠言</td>\n",
       "    </tr>\n",
       "    <tr>\n",
       "      <th>9494</th>\n",
       "      <td>53xxwz5xb9ei</td>\n",
       "      <td>1</td>\n",
       "      <td>{'NOT_RUMOR'}</td>\n",
       "      <td>2.0</td>\n",
       "      <td>不是謠言</td>\n",
       "      <td>1.000000</td>\n",
       "      <td>不是謠言</td>\n",
       "    </tr>\n",
       "    <tr>\n",
       "      <th>9495</th>\n",
       "      <td>367c6xtb9f8m8</td>\n",
       "      <td>2</td>\n",
       "      <td>{'OPINIONATED', 'RUMOR'}</td>\n",
       "      <td>-61.0</td>\n",
       "      <td>謠言或個人意見</td>\n",
       "      <td>-0.792208</td>\n",
       "      <td>謠言或個人意見</td>\n",
       "    </tr>\n",
       "  </tbody>\n",
       "</table>\n",
       "<p>9496 rows × 7 columns</p>\n",
       "</div>"
      ],
      "text/plain": [
       "         article_id  reply_type_count            reply_type_set  \\\n",
       "0     1dqqhpqxn4dk0                 1                 {'RUMOR'}   \n",
       "1     3t48ii3p66cbm                 1           {'OPINIONATED'}   \n",
       "2     1bx9gnebv6p01                 1                 {'RUMOR'}   \n",
       "3     14iyzlbojkvut                 1           {'OPINIONATED'}   \n",
       "4     2a2si2nph7960                 1           {'OPINIONATED'}   \n",
       "...             ...               ...                       ...   \n",
       "9491  371hkwndfzqp8                 1                 {'RUMOR'}   \n",
       "9492  21g65qh6pls6e                 1                 {'RUMOR'}   \n",
       "9493  3e35eai9dxjf8                 1             {'NOT_RUMOR'}   \n",
       "9494   53xxwz5xb9ei                 1             {'NOT_RUMOR'}   \n",
       "9495  367c6xtb9f8m8                 2  {'OPINIONATED', 'RUMOR'}   \n",
       "\n",
       "      article_truth_score_count article_type_count  reply_type_prop  \\\n",
       "0                          -1.0            謠言或個人意見        -0.200000   \n",
       "1                          -2.0            謠言或個人意見        -1.000000   \n",
       "2                          -2.0            謠言或個人意見        -1.000000   \n",
       "3                          -2.0            謠言或個人意見        -1.000000   \n",
       "4                          -2.0            謠言或個人意見        -1.000000   \n",
       "...                         ...                ...              ...   \n",
       "9491                       -1.0            謠言或個人意見        -1.000000   \n",
       "9492                       -5.0            謠言或個人意見        -1.000000   \n",
       "9493                        1.0               不是謠言         1.000000   \n",
       "9494                        2.0               不是謠言         1.000000   \n",
       "9495                      -61.0            謠言或個人意見        -0.792208   \n",
       "\n",
       "     article_type_prop  \n",
       "0              謠言或個人意見  \n",
       "1              謠言或個人意見  \n",
       "2              謠言或個人意見  \n",
       "3              謠言或個人意見  \n",
       "4              謠言或個人意見  \n",
       "...                ...  \n",
       "9491           謠言或個人意見  \n",
       "9492           謠言或個人意見  \n",
       "9493              不是謠言  \n",
       "9494              不是謠言  \n",
       "9495           謠言或個人意見  \n",
       "\n",
       "[9496 rows x 7 columns]"
      ]
     },
     "execution_count": 132,
     "metadata": {},
     "output_type": "execute_result"
    }
   ],
   "source": [
    "article_truth_score_merge.reindex(columns=['article_id', 'reply_type_count', 'reply_type_set',\n",
    "       'article_truth_score_count', 'article_type_count', 'reply_type_prop', 'article_type_prop'])"
   ]
  },
  {
   "cell_type": "markdown",
   "id": "251be3ed",
   "metadata": {},
   "source": [
    "# 檢查兩種方式的結果是否相同"
   ]
  },
  {
   "cell_type": "code",
   "execution_count": 141,
   "id": "86e84763",
   "metadata": {},
   "outputs": [],
   "source": [
    "for rows in article_truth_score_merge.itertuples():\n",
    "    if article_truth_score_merge.loc[rows.Index, 'article_type_count'] != article_truth_score_merge.loc[rows.Index, 'article_type_prop']:\n",
    "        article_truth_score_merge.loc[rows.Index, 'comp'] = 'inconsistent'\n",
    "    else:\n",
    "        article_truth_score_merge.loc[rows.Index, 'comp'] = 'consistent'"
   ]
  },
  {
   "cell_type": "code",
   "execution_count": 143,
   "id": "bdfa88ac",
   "metadata": {},
   "outputs": [
    {
     "data": {
      "text/plain": [
       "{'consistent'}"
      ]
     },
     "execution_count": 143,
     "metadata": {},
     "output_type": "execute_result"
    }
   ],
   "source": [
    "set(article_truth_score_merge.comp)"
   ]
  },
  {
   "cell_type": "code",
   "execution_count": 147,
   "id": "2f460b07",
   "metadata": {},
   "outputs": [],
   "source": [
    "article_truth_score_merge.to_csv(out_path/'cofacts_truth_score_merge_20220322-20220422.csv', index=False)"
   ]
  },
  {
   "cell_type": "code",
   "execution_count": 175,
   "id": "eab9b5f6",
   "metadata": {},
   "outputs": [
    {
     "data": {
      "text/html": [
       "<div>\n",
       "<style scoped>\n",
       "    .dataframe tbody tr th:only-of-type {\n",
       "        vertical-align: middle;\n",
       "    }\n",
       "\n",
       "    .dataframe tbody tr th {\n",
       "        vertical-align: top;\n",
       "    }\n",
       "\n",
       "    .dataframe thead th {\n",
       "        text-align: right;\n",
       "    }\n",
       "</style>\n",
       "<table border=\"1\" class=\"dataframe\">\n",
       "  <thead>\n",
       "    <tr style=\"text-align: right;\">\n",
       "      <th></th>\n",
       "      <th>article_type_prop</th>\n",
       "      <th>article_id</th>\n",
       "    </tr>\n",
       "  </thead>\n",
       "  <tbody>\n",
       "    <tr>\n",
       "      <th>0</th>\n",
       "      <td>不是謠言</td>\n",
       "      <td>1625</td>\n",
       "    </tr>\n",
       "    <tr>\n",
       "      <th>1</th>\n",
       "      <td>無法判斷或不在查證範圍</td>\n",
       "      <td>863</td>\n",
       "    </tr>\n",
       "    <tr>\n",
       "      <th>2</th>\n",
       "      <td>謠言或個人意見</td>\n",
       "      <td>7008</td>\n",
       "    </tr>\n",
       "  </tbody>\n",
       "</table>\n",
       "</div>"
      ],
      "text/plain": [
       "  article_type_prop  article_id\n",
       "0              不是謠言        1625\n",
       "1       無法判斷或不在查證範圍         863\n",
       "2           謠言或個人意見        7008"
      ]
     },
     "execution_count": 175,
     "metadata": {},
     "output_type": "execute_result"
    }
   ],
   "source": [
    "article_truth_score_merge[['article_type_prop', 'article_id']].groupby(by='article_type_prop', as_index=False).count()"
   ]
  },
  {
   "cell_type": "code",
   "execution_count": null,
   "id": "7710a001",
   "metadata": {},
   "outputs": [],
   "source": []
  }
 ],
 "metadata": {
  "kernelspec": {
   "display_name": "Python 3 (ipykernel)",
   "language": "python",
   "name": "python3"
  },
  "language_info": {
   "codemirror_mode": {
    "name": "ipython",
    "version": 3
   },
   "file_extension": ".py",
   "mimetype": "text/x-python",
   "name": "python",
   "nbconvert_exporter": "python",
   "pygments_lexer": "ipython3",
   "version": "3.9.12"
  }
 },
 "nbformat": 4,
 "nbformat_minor": 5
}
